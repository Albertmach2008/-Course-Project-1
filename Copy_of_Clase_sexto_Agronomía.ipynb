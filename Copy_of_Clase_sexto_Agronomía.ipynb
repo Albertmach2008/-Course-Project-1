{
  "nbformat": 4,
  "nbformat_minor": 0,
  "metadata": {
    "colab": {
      "provenance": [],
      "authorship_tag": "ABX9TyPHnpt/BMHP/8DuWIIq+wHv",
      "include_colab_link": true
    },
    "kernelspec": {
      "name": "python3",
      "display_name": "Python 3"
    },
    "language_info": {
      "name": "python"
    }
  },
  "cells": [
    {
      "cell_type": "markdown",
      "metadata": {
        "id": "view-in-github",
        "colab_type": "text"
      },
      "source": [
        "<a href=\"https://colab.research.google.com/github/Albertmach2008/-Course-Project-1/blob/master/Copy_of_Clase_sexto_Agronom%C3%ADa.ipynb\" target=\"_parent\"><img src=\"https://colab.research.google.com/assets/colab-badge.svg\" alt=\"Open In Colab\"/></a>"
      ]
    },
    {
      "cell_type": "markdown",
      "source": [
        "# Google colaboratory\n",
        "\n",
        "Herramienta en línea para programadores en ciencia de datos, investigación y aprendizaje\n",
        "\n",
        "Se basa en un entorno de Jupyter\n",
        "\n",
        "![image.png](data:image/png;base64,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)\n",
        "\n",
        "## Clase básica para datos en Python\n",
        "\n",
        "Tipos de variables\n",
        "Mi IMC"
      ],
      "metadata": {
        "id": "t4YJZgokKtHJ"
      }
    },
    {
      "cell_type": "markdown",
      "source": [
        "## Variables\n",
        "\n",
        "- Números enteros y decimales\n",
        "\n",
        "- Textos (strings)\n",
        "\n",
        "- Variables lógicas (booleanas)\n",
        "\n",
        "- Listas\n",
        "\n",
        "- Diccionarios"
      ],
      "metadata": {
        "id": "8xXpx0j6TAap"
      }
    },
    {
      "cell_type": "code",
      "source": [
        "1000000 # int o entero\n",
        "3.14159265 # float o decimal/flotante\n",
        "\"Universidad\" # String o\n",
        "False # lógic o lógico 1 o 0\n",
        "\n",
        "x = 1000000\n",
        "y= 3.14159265\n",
        "z = \"Universidad\"\n",
        "es_mayor = False\n",
        "A = x > y\n",
        "B = y > x\n",
        "\n",
        "print(x, y, z, es_mayor, A, B)"
      ],
      "metadata": {
        "colab": {
          "base_uri": "https://localhost:8080/"
        },
        "id": "QUhEmUNwSvkS",
        "outputId": "066d4a71-6bbe-4ca9-fbf0-3247264bac4a"
      },
      "execution_count": 1,
      "outputs": [
        {
          "output_type": "stream",
          "name": "stdout",
          "text": [
            "1000000 3.14159265 Universidad False True False\n"
          ]
        }
      ]
    }
  ]
}